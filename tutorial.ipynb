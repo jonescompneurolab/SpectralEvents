{
 "cells": [
  {
   "cell_type": "code",
   "execution_count": 1,
   "metadata": {},
   "outputs": [],
   "source": [
    "import os.path as op\n",
    "from glob import glob\n",
    "# set path to SpectralEvents if necessary\n",
    "#import sys\n",
    "#sys.path.append('/home/ryan/SpectralEvents')\n",
    "\n",
    "import numpy as np\n",
    "from scipy.io import loadmat\n",
    "import matplotlib.pyplot as plt\n",
    "import seaborn as sns\n",
    "\n",
    "import spectralevents_functions as se\n",
    "\n",
    "sns.set()"
   ]
  },
  {
   "cell_type": "code",
   "execution_count": 2,
   "metadata": {},
   "outputs": [],
   "source": [
    "# dataset parameters\n",
    "data_dir = 'test_data'  # relative path to data directory\n",
    "subj_ids = [str(id) for id in range(1, 10 + 1)]  # subject IDs 1-10\n",
    "\n",
    "n_subjs = len(subj_ids)  # number of subjects\n",
    "n_trials = 200           # number of trials per subject\n",
    "n_samps = 600            # number of samples per trial\n",
    "Fs = 600                 # sampling rate (Hz)"
   ]
  },
  {
   "cell_type": "code",
   "execution_count": 3,
   "metadata": {},
   "outputs": [],
   "source": [
    "# load data\n",
    "hit_trials = list()\n",
    "meg_data = list()\n",
    "for id_idx, id in enumerate(subj_ids):\n",
    "    fname = op.join(data_dir, 'prestim_humandetection_600hzMEG_subject' + id + '.mat')\n",
    "    raw_data = loadmat(fname)\n",
    "    hit_trials.append(np.nonzero(raw_data['YorN'].squeeze()))  # indices of hit trials\n",
    "    meg_data.append(raw_data['prestim_raw_yes_no'])  # MEG time series (trials x samples)"
   ]
  },
  {
   "cell_type": "code",
   "execution_count": 4,
   "metadata": {},
   "outputs": [
    {
     "data": {
      "text/plain": [
       "(200, 600)"
      ]
     },
     "execution_count": 4,
     "metadata": {},
     "output_type": "execute_result"
    }
   ],
   "source": [
    "# investigate data structure\n",
    "meg_data[0].shape  # trials x samples for Subj 1"
   ]
  },
  {
   "cell_type": "code",
   "execution_count": 5,
   "metadata": {},
   "outputs": [],
   "source": [
    "# time-frequency response (TFR) parameters\n",
    "freqs = list(range(1, 60 + 1))   # TFR: fequency values (Hz) over which to calculate\n",
    "morlet_width = 7  # TFR: width parameter of Morlet wavelet\n",
    "\n",
    "# spectral event analysis parameters\n",
    "eventBand = [15, 29]          # frequency range (Hz) of spectral events (beta band)\n",
    "thrFOM = 6; # Factors of Median threshold (see Shin et al. eLife 2017 for details concerning this value)"
   ]
  },
  {
   "cell_type": "code",
   "execution_count": 6,
   "metadata": {},
   "outputs": [],
   "source": []
  },
  {
   "cell_type": "code",
   "execution_count": 12,
   "metadata": {},
   "outputs": [],
   "source": [
    "# Run spectral event analysis per dataset (Dataset loop)\n",
    "TFR = list()\n",
    "specEvents = list()\n",
    "for subj_idx, subj_data in enumerate(meg_data):\n",
    "\n",
    "    # calculate time-frequency response (TFR)\n",
    "    thisTFR = se.spectralevents_ts2tfr(subj_data, freqs, Fs, morlet_width)\n",
    "    tVec = np.arange(n_samps) / Fs\n",
    "    TFR.append(thisTFR)\n",
    "\n",
    "    # Normalize the TFR data [tr x f x t] to the median value per frequency band\n",
    "    numTrials, numFreqBins, numSamples = thisTFR.shape\n",
    "    TFR_order = np.transpose(thisTFR, axes=[1, 0, 2])  # [f x tr x t]\n",
    "    TFR_reshape = np.reshape(TFR_order, (numFreqBins, numTrials * numSamples))\n",
    "    TFRmeds = np.median(TFR_reshape, axis=1)  # f vector\n",
    "    TFRmeds_expanded = np.transpose(np.tile(TFRmeds, (numSamples, numTrials, 1)), axes=[1, 2, 0])\n",
    "    thisTFR_norm = thisTFR / TFRmeds_expanded\n",
    "\n",
    "    # Find local maxima in TFR\n",
    "    thisSpecEvents = se.find_events(eventBand, thrFOM, tVec, freqs, thisTFR, Fs)\n",
    "    #thisSpecEvents = pd.DataFrame( thisSpecEvents )\n",
    "    specEvents.append(thisSpecEvents)\n",
    "\n"
   ]
  },
  {
   "cell_type": "code",
   "execution_count": null,
   "metadata": {},
   "outputs": [],
   "source": [
    "    # Extract event attributes for this test data\n",
    "    classes = np.unique(thisClassLabels)\n",
    "\n",
    "    # Plot results for each class of trial\n",
    "    for clss in classes:\n",
    "\n",
    "        # Get TFR, time course, and trial IDs for this class of trials only\n",
    "        trial_inds = np.nonzero(thisClassLabels == clss)[0]\n",
    "        classTFR = thisTFR[trial_inds, :, :]\n",
    "        classTFR_norm = thisTFR_norm[trial_inds, :, :]\n",
    "        classData = thisData[trial_inds, :]\n",
    "\n",
    "        # Get events data for this class only, and update trial indices to be consecutive\n",
    "        #   starting at 0\n",
    "        event_trials = [(event['Trial'] in trial_inds) for event in thisSpecEvents]\n",
    "        classEvents = thisSpecEvents[event_trials]\n",
    "\n",
    "        # Make figure\n",
    "        fig, axs = se.plot_avg_spectrogram(classEvents, classData, classTFR,\n",
    "                                           classTFR_norm, tVec, freqs,\n",
    "                                           eventBand)\n",
    "        # Add title\n",
    "        axs[0, 0].set_title('DataSet ' + str(subj_idx) + ', Trial class ' + str(clss))"
   ]
  },
  {
   "cell_type": "code",
   "execution_count": null,
   "metadata": {},
   "outputs": [],
   "source": []
  }
 ],
 "metadata": {
  "kernelspec": {
   "display_name": "Python 3.7.6 ('base')",
   "language": "python",
   "name": "python3"
  },
  "language_info": {
   "codemirror_mode": {
    "name": "ipython",
    "version": 3
   },
   "file_extension": ".py",
   "mimetype": "text/x-python",
   "name": "python",
   "nbconvert_exporter": "python",
   "pygments_lexer": "ipython3",
   "version": "3.8.8"
  },
  "orig_nbformat": 4,
  "vscode": {
   "interpreter": {
    "hash": "569d0bbc3854db4a73f5be0bb5576848176d13611564839ca8e34057b1299597"
   }
  }
 },
 "nbformat": 4,
 "nbformat_minor": 2
}
