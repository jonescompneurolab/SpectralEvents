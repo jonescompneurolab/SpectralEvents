{
 "cells": [
  {
   "cell_type": "code",
   "execution_count": 1,
   "metadata": {},
   "outputs": [],
   "source": [
    "import sys\n",
    "import os.path as op\n",
    "# set path to SpectralEvents if necessary\n",
    "#sys.path.append('/home/ryan/SpectralEvents')\n",
    "\n",
    "import numpy as np\n",
    "import scipy.io as io\n",
    "import pandas as pd\n",
    "import matplotlib.pyplot as plt\n",
    "import seaborn as sns\n",
    "\n",
    "import spectralevents_functions as se\n",
    "\n",
    "sns.set()"
   ]
  },
  {
   "cell_type": "code",
   "execution_count": 2,
   "metadata": {},
   "outputs": [],
   "source": [
    "numSubj = 10\n",
    "\n",
    "eventBand = [15,29]      # Frequency range of spectral events\n",
    "fVec = np.arange(1,60+1)            # Vector of fequency values over which to calculate TFR\n",
    "Fs = 600                            # Sampling rate of time-series\n",
    "findMethod = 1                      # Event-finding method (1 allows for maximal overlap while 2 limits overlap in each respective suprathreshold region)\n",
    "width = 7\n",
    "thrFOM = 6; # Factors of Median threshold (see Shin et al. eLife 2017 for details concerning this value)\n",
    "\n",
    "################################\n",
    "# Processing starts here\n",
    "subjectIDs = np.arange(numSubj)+1\n",
    "\n",
    "# Load data sessions/subjects from the same experimental setup so that\n",
    "# spectral event features are differentially characterized only between the\n",
    "# desired trial classification labels: in this case, detection vs.\n",
    "# non-detection\n",
    "#\n",
    "# Note: each .mat file contains:\n",
    "#   'prestim_raw_yes_no' - 200 trials x 600 time samples matrix of time series data\n",
    "#   'YorN' - 200 trials x 1 matrix of 1s or 0s to indicate trial label\n",
    "x = []\n",
    "for s in subjectIDs:\n",
    "    testFile = op.join('test_data', \"\".join(['prestim_humandetection_600hzMEG_subject',\n",
    "        str(s), '.mat']))\n",
    "    a = io.loadmat(testFile)\n",
    "    x.append( a )\n",
    "\n",
    "numTrials, numSamples = a['prestim_raw_yes_no'].shape"
   ]
  },
  {
   "cell_type": "code",
   "execution_count": 11,
   "metadata": {},
   "outputs": [
    {
     "data": {
      "text/plain": [
       "array([[1, 1, 1, 1, 1, 1, 1, 1, 1, 1, 1, 1, 1, 1, 1, 1, 1, 1, 1, 1, 1, 1,\n",
       "        1, 1, 1, 1, 1, 1, 1, 1, 1, 1, 1, 1, 1, 1, 1, 1, 1, 1, 1, 1, 1, 1,\n",
       "        1, 1, 1, 1, 1, 1, 1, 1, 1, 1, 1, 1, 1, 1, 1, 1, 1, 1, 1, 1, 1, 1,\n",
       "        1, 1, 1, 1, 1, 1, 1, 1, 1, 1, 1, 1, 1, 1, 1, 1, 1, 1, 1, 1, 1, 1,\n",
       "        1, 1, 1, 1, 1, 1, 1, 1, 1, 1, 1, 1, 0, 0, 0, 0, 0, 0, 0, 0, 0, 0,\n",
       "        0, 0, 0, 0, 0, 0, 0, 0, 0, 0, 0, 0, 0, 0, 0, 0, 0, 0, 0, 0, 0, 0,\n",
       "        0, 0, 0, 0, 0, 0, 0, 0, 0, 0, 0, 0, 0, 0, 0, 0, 0, 0, 0, 0, 0, 0,\n",
       "        0, 0, 0, 0, 0, 0, 0, 0, 0, 0, 0, 0, 0, 0, 0, 0, 0, 0, 0, 0, 0, 0,\n",
       "        0, 0, 0, 0, 0, 0, 0, 0, 0, 0, 0, 0, 0, 0, 0, 0, 0, 0, 0, 0, 0, 0,\n",
       "        0, 0]], dtype=uint8)"
      ]
     },
     "execution_count": 11,
     "metadata": {},
     "output_type": "execute_result"
    }
   ],
   "source": [
    "x[0]['YorN'].T"
   ]
  },
  {
   "cell_type": "code",
   "execution_count": 3,
   "metadata": {},
   "outputs": [],
   "source": [
    "# Validate fVec input\n",
    "Fn = Fs/2                   # Nyquist frequency\n",
    "dt = 1/Fs                   # Sampling time interval\n",
    "Fmin = 1/(numSamples*dt)    # Minimum resolvable frequency\n",
    "\n",
    "if fVec[0] < Fmin:\n",
    "    sys.exit('Frequency vector includes values outside the resolvable/alias-free range.')\n",
    "elif fVec[-1] > Fn:\n",
    "    sys.exit('Frequency vector includes values outside the resolvable/alias-free range.')\n",
    "elif np.abs(fVec[1]-fVec[0]) < Fmin:\n",
    "    sys.exit('Frequency vector includes values outside the resolvable/alias-free range.')\n"
   ]
  },
  {
   "cell_type": "code",
   "execution_count": 14,
   "metadata": {},
   "outputs": [
    {
     "ename": "ValueError",
     "evalue": "Item wrong length 2 instead of 6705.",
     "output_type": "error",
     "traceback": [
      "\u001b[0;31m---------------------------------------------------------------------------\u001b[0m",
      "\u001b[0;31mValueError\u001b[0m                                Traceback (most recent call last)",
      "\u001b[0;32m<ipython-input-14-9a4a327f9cdf>\u001b[0m in \u001b[0;36m<module>\u001b[0;34m\u001b[0m\n\u001b[1;32m     38\u001b[0m         \u001b[0;31m# Get events data for this class only, and update trial indices to be consecutive\u001b[0m\u001b[0;34m\u001b[0m\u001b[0;34m\u001b[0m\u001b[0;34m\u001b[0m\u001b[0m\n\u001b[1;32m     39\u001b[0m         \u001b[0;31m#   starting at 0\u001b[0m\u001b[0;34m\u001b[0m\u001b[0;34m\u001b[0m\u001b[0;34m\u001b[0m\u001b[0m\n\u001b[0;32m---> 40\u001b[0;31m         \u001b[0mdf\u001b[0m \u001b[0;34m=\u001b[0m \u001b[0mthisSpecEvents\u001b[0m\u001b[0;34m[\u001b[0m\u001b[0mclasses\u001b[0m\u001b[0;34m==\u001b[0m\u001b[0mclss\u001b[0m\u001b[0;34m]\u001b[0m\u001b[0;34m\u001b[0m\u001b[0;34m\u001b[0m\u001b[0m\n\u001b[0m\u001b[1;32m     41\u001b[0m         \u001b[0mclassEvents\u001b[0m \u001b[0;34m=\u001b[0m \u001b[0mdf\u001b[0m\u001b[0;34m.\u001b[0m\u001b[0mcopy\u001b[0m\u001b[0;34m(\u001b[0m\u001b[0;34m)\u001b[0m\u001b[0;34m\u001b[0m\u001b[0;34m\u001b[0m\u001b[0m\n\u001b[1;32m     42\u001b[0m         \u001b[0mclassEvents\u001b[0m \u001b[0;34m=\u001b[0m \u001b[0mclassEvents\u001b[0m\u001b[0;34m.\u001b[0m\u001b[0mreplace\u001b[0m\u001b[0;34m(\u001b[0m\u001b[0mtrial_inds\u001b[0m\u001b[0;34m,\u001b[0m \u001b[0mnp\u001b[0m\u001b[0;34m.\u001b[0m\u001b[0marange\u001b[0m\u001b[0;34m(\u001b[0m\u001b[0mlen\u001b[0m\u001b[0;34m(\u001b[0m\u001b[0mtrial_inds\u001b[0m\u001b[0;34m)\u001b[0m\u001b[0;34m)\u001b[0m\u001b[0;34m)\u001b[0m\u001b[0;34m\u001b[0m\u001b[0;34m\u001b[0m\u001b[0m\n",
      "\u001b[0;32m~/anaconda3/lib/python3.7/site-packages/pandas/core/frame.py\u001b[0m in \u001b[0;36m__getitem__\u001b[0;34m(self, key)\u001b[0m\n\u001b[1;32m   2789\u001b[0m         \u001b[0;31m# Do we have a (boolean) 1d indexer?\u001b[0m\u001b[0;34m\u001b[0m\u001b[0;34m\u001b[0m\u001b[0;34m\u001b[0m\u001b[0m\n\u001b[1;32m   2790\u001b[0m         \u001b[0;32mif\u001b[0m \u001b[0mcom\u001b[0m\u001b[0;34m.\u001b[0m\u001b[0mis_bool_indexer\u001b[0m\u001b[0;34m(\u001b[0m\u001b[0mkey\u001b[0m\u001b[0;34m)\u001b[0m\u001b[0;34m:\u001b[0m\u001b[0;34m\u001b[0m\u001b[0;34m\u001b[0m\u001b[0m\n\u001b[0;32m-> 2791\u001b[0;31m             \u001b[0;32mreturn\u001b[0m \u001b[0mself\u001b[0m\u001b[0;34m.\u001b[0m\u001b[0m_getitem_bool_array\u001b[0m\u001b[0;34m(\u001b[0m\u001b[0mkey\u001b[0m\u001b[0;34m)\u001b[0m\u001b[0;34m\u001b[0m\u001b[0;34m\u001b[0m\u001b[0m\n\u001b[0m\u001b[1;32m   2792\u001b[0m \u001b[0;34m\u001b[0m\u001b[0m\n\u001b[1;32m   2793\u001b[0m         \u001b[0;31m# We are left with two options: a single key, and a collection of keys,\u001b[0m\u001b[0;34m\u001b[0m\u001b[0;34m\u001b[0m\u001b[0;34m\u001b[0m\u001b[0m\n",
      "\u001b[0;32m~/anaconda3/lib/python3.7/site-packages/pandas/core/frame.py\u001b[0m in \u001b[0;36m_getitem_bool_array\u001b[0;34m(self, key)\u001b[0m\n\u001b[1;32m   2836\u001b[0m         \u001b[0;32melif\u001b[0m \u001b[0mlen\u001b[0m\u001b[0;34m(\u001b[0m\u001b[0mkey\u001b[0m\u001b[0;34m)\u001b[0m \u001b[0;34m!=\u001b[0m \u001b[0mlen\u001b[0m\u001b[0;34m(\u001b[0m\u001b[0mself\u001b[0m\u001b[0;34m.\u001b[0m\u001b[0mindex\u001b[0m\u001b[0;34m)\u001b[0m\u001b[0;34m:\u001b[0m\u001b[0;34m\u001b[0m\u001b[0;34m\u001b[0m\u001b[0m\n\u001b[1;32m   2837\u001b[0m             raise ValueError(\n\u001b[0;32m-> 2838\u001b[0;31m                 \u001b[0;34mf\"Item wrong length {len(key)} instead of {len(self.index)}.\"\u001b[0m\u001b[0;34m\u001b[0m\u001b[0;34m\u001b[0m\u001b[0m\n\u001b[0m\u001b[1;32m   2839\u001b[0m             )\n\u001b[1;32m   2840\u001b[0m \u001b[0;34m\u001b[0m\u001b[0m\n",
      "\u001b[0;31mValueError\u001b[0m: Item wrong length 2 instead of 6705."
     ]
    }
   ],
   "source": [
    "# Run spectral event analysis per dataset (Dataset loop)\n",
    "TFR = []\n",
    "specEvents = []\n",
    "ctr = 1\n",
    "for subj_idx, thisX in enumerate(x):\n",
    "\n",
    "    # Convert data to TFR\n",
    "    thisData = thisX['prestim_raw_yes_no']\n",
    "    thisClassLabels = thisX['YorN']\n",
    "    thisTFR, tVec, fVec = se.spectralevents_ts2tfr( thisData.T, fVec, Fs, width )\n",
    "    TFR.append( thisTFR )\n",
    "\n",
    "    # Normalize the TFR data [tr x f x t] to the median value per frequency band\n",
    "    numTrials, numFreqBins, numSamples = thisTFR.shape\n",
    "    TFR_order = np.transpose(thisTFR, axes=[1,0,2]) # [f x tr x t]\n",
    "    TFR_reshape = np.reshape(TFR_order, (numFreqBins, numTrials*numSamples))\n",
    "    TFRmeds = np.median(TFR_reshape, axis=1)        # f vector\n",
    "    TFRmeds_expanded = np.transpose(np.tile(TFRmeds, (numSamples,numTrials,1)), axes=[1,2,0])\n",
    "    thisTFR_norm = thisTFR/TFRmeds_expanded\n",
    "\n",
    "    # Find local maxima in TFR\n",
    "    thisSpecEvents = se.find_events(thrFOM, tVec, fVec, thisTFR, Fs)\n",
    "    thisSpecEvents = pd.DataFrame( thisSpecEvents )\n",
    "    specEvents.append( thisSpecEvents )\n",
    "\n",
    "    # Extract event attributes for this test data\n",
    "    classes = np.unique(thisClassLabels.T)\n",
    "\n",
    "    # Plot results for each class of trial\n",
    "    for clss in classes:\n",
    "\n",
    "        # Get TFR, time course, and trial IDs for this class of trials only\n",
    "        trial_inds = np.where(thisClassLabels == clss)[0]\n",
    "        classTFR = thisTFR[trial_inds,:,:]\n",
    "        classTFR_norm = thisTFR_norm[trial_inds,:,:]\n",
    "        classData = thisData[trial_inds,:]\n",
    "\n",
    "        # Get events data for this class only, and update trial indices to be consecutive\n",
    "        #   starting at 0\n",
    "        df = thisSpecEvents[classes==clss]\n",
    "        classEvents = df.copy()\n",
    "        classEvents = classEvents.replace(trial_inds, np.arange(len(trial_inds)))\n",
    "\n",
    "        # Drop events that are low threshold (below 6 FOM)\n",
    "        classEvents = classEvents[classEvents['Outlier Event']==1]\n",
    "\n",
    "        # Make figure\n",
    "        fig, axs = se.spectralevents_vis( classEvents, classData, classTFR, classTFR_norm,\n",
    "            tVec, fVec, eventBand )\n",
    "        # Add title\n",
    "        axs[0,0].set_title( 'DataSet ' + str(subj_idx) + ', Trial class ' + str(clss) )"
   ]
  },
  {
   "cell_type": "code",
   "execution_count": null,
   "metadata": {},
   "outputs": [],
   "source": []
  }
 ],
 "metadata": {
  "kernelspec": {
   "display_name": "Python 3.7.6 ('base')",
   "language": "python",
   "name": "python3"
  },
  "language_info": {
   "codemirror_mode": {
    "name": "ipython",
    "version": 3
   },
   "file_extension": ".py",
   "mimetype": "text/x-python",
   "name": "python",
   "nbconvert_exporter": "python",
   "pygments_lexer": "ipython3",
   "version": "3.7.6"
  },
  "orig_nbformat": 4,
  "vscode": {
   "interpreter": {
    "hash": "569d0bbc3854db4a73f5be0bb5576848176d13611564839ca8e34057b1299597"
   }
  }
 },
 "nbformat": 4,
 "nbformat_minor": 2
}
