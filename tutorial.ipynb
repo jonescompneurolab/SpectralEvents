{
 "cells": [
  {
   "cell_type": "markdown",
   "metadata": {},
   "source": [
    "# Spectral Event Analysis Tutorial"
   ]
  },
  {
   "cell_type": "markdown",
   "metadata": {},
   "source": [
    "This tutorial is a hands-on introduction to using the [SpectralEvents toolbox](https://github.com/jonescompneurolab/SpectralEvents), **a collection of functions designed to help researchers characterize high-amplitude peaks in the spectral representation of continuous neural signals**. Here, we'll load and analyze data that is distributed with the toolbox, as described in [Shin et al. (2017)](https://doi.org/10.7554/eLife.29086)."
   ]
  },
  {
   "cell_type": "markdown",
   "metadata": {},
   "source": [
    "First, we'll import some dependencies. Note that `seaborn` is not required, but is added to improve plot styling."
   ]
  },
  {
   "cell_type": "code",
   "execution_count": 1,
   "metadata": {},
   "outputs": [],
   "source": [
    "%matplotlib widget\n",
    "\n",
    "import sys\n",
    "import os.path as op\n",
    "from glob import glob\n",
    "\n",
    "import numpy as np\n",
    "from scipy.io import loadmat\n",
    "import matplotlib.pyplot as plt\n",
    "import seaborn as sns\n",
    "\n",
    "sns.set()"
   ]
  },
  {
   "cell_type": "markdown",
   "metadata": {},
   "source": [
    "Now let's import the SpectralEvents toolbox module. You might need to modify the path to this module so that your Python interpreter knows where to find it."
   ]
  },
  {
   "cell_type": "code",
   "execution_count": 2,
   "metadata": {},
   "outputs": [],
   "source": [
    "# set path to SpectralEvents if necessary\n",
    "#sys.path.append('/home/ryan/SpectralEvents')\n",
    "import spectralevents as se"
   ]
  },
  {
   "cell_type": "code",
   "execution_count": 3,
   "metadata": {},
   "outputs": [],
   "source": [
    "# dataset parameters\n",
    "data_dir = op.join(op.dirname(se.__file__), 'data') \n",
    "subj_ids = [str(id) for id in range(1, 10 + 1)]  # subject IDs 1-10\n",
    "\n",
    "n_subjs = len(subj_ids)  # number of subjects\n",
    "n_trials = 200           # number of trials per subject\n",
    "n_times = 600            # number of time samples per trial\n",
    "samp_freq = 600          # sampling rate (Hz)"
   ]
  },
  {
   "cell_type": "code",
   "execution_count": 4,
   "metadata": {},
   "outputs": [],
   "source": [
    "# load data\n",
    "hit_trials = list()\n",
    "data = list()\n",
    "for id_idx, id in enumerate(subj_ids):\n",
    "    fname = op.join(data_dir, 'prestim_humandetection_600hzMEG_subject' + id + '.mat')\n",
    "    raw_data = loadmat(fname)\n",
    "    hit_trials.append(np.nonzero(raw_data['YorN'].squeeze())[0])  # indices for trials where the stimulus was detected\n",
    "    data.append(raw_data['prestim_raw_yes_no'])  # MEG time series (trials x samples)"
   ]
  },
  {
   "cell_type": "markdown",
   "metadata": {},
   "source": [
    "Once you've loaded the data, make sure you understand how it's formatted. There\n",
    "are 10 subjects, each with 100 detected (i.e., *hit*) trials and 100 undetected (i.e., *miss*) trials. How might you go about selecting only the *hit* trials from the 1st subject?"
   ]
  },
  {
   "cell_type": "code",
   "execution_count": 5,
   "metadata": {},
   "outputs": [
    {
     "name": "stdout",
     "output_type": "stream",
     "text": [
      "(200, 600)\n"
     ]
    }
   ],
   "source": [
    "# investigate data structure: # trials x time for Subj 1\n",
    "print(data[0].shape)"
   ]
  },
  {
   "cell_type": "markdown",
   "metadata": {},
   "source": [
    "## Identifying events in single-subject data\n",
    "Let's find the spectral events across trial conditions in a single subject,\n",
    "after which we'll expand the analysis to include all 10 subjects."
   ]
  },
  {
   "cell_type": "code",
   "execution_count": 6,
   "metadata": {},
   "outputs": [],
   "source": [
    "subj_data = data[0]"
   ]
  },
  {
   "cell_type": "markdown",
   "metadata": {},
   "source": [
    "We've loaded the data and must now set the conditions governing Spectral Event detection:\n",
    "- `freqs`, the frequency values over which you will calculate your **t**ime-**f**requency **r**esponse (TFR)\n",
    "- `times`, the time values at which your signal was sampled relative to each epoch or trial\n",
    "- `event_band`, the bounds of the frequency band in which you will look for Spectral Events\n",
    "- `thresh_FOM`, the factor-of-the-median threshold that will be used to find suprathreshold spectral power in each frequency bin across the spectrogram(s)\n",
    "\n",
    "The general workflow for event detection follows this progression: **TIMESERIES** -> **TFR** -> **SPECTRAL EVENTS**"
   ]
  },
  {
   "cell_type": "code",
   "execution_count": 7,
   "metadata": {},
   "outputs": [],
   "source": [
    "# set parameters\n",
    "freqs = list(range(1, 60 + 1))   # fequency values (Hz) over which to calculate TFR\n",
    "times = np.arange(n_times) / samp_freq  # seconds\n",
    "event_band = [15, 29]  # beta band (Hz)\n",
    "thresh_FOM = 6.  # factor-of-the-median threshold"
   ]
  },
  {
   "cell_type": "markdown",
   "metadata": {},
   "source": [
    "**Step 1**: **TIMESERIES** -> **TFR**"
   ]
  },
  {
   "cell_type": "code",
   "execution_count": 8,
   "metadata": {},
   "outputs": [],
   "source": [
    "# calculate TFR\n",
    "tfrs = se.tfr(subj_data, freqs, samp_freq)"
   ]
  },
  {
   "cell_type": "markdown",
   "metadata": {},
   "source": [
    "**Step 2**: **TFR** -> **SPECTRAL EVENTS**\n",
    "\n",
    "(Note that our band-of-interest, as guided by the literature and discussed in more detail in a few moments, is the **beta band (15-29 Hz)**.)"
   ]
  },
  {
   "cell_type": "code",
   "execution_count": 9,
   "metadata": {},
   "outputs": [],
   "source": [
    "# find spectral events!!\n",
    "spec_events = se.find_events(tfr=tfrs, times=times, freqs=freqs,\n",
    "                             event_band=event_band, threshold_FOM=thresh_FOM)"
   ]
  },
  {
   "cell_type": "markdown",
   "metadata": {},
   "source": [
    "`spec_events` is is a nested list (trials x events). Each event is annotated by\n",
    "dictionary key-value pairs that include `Peak Time`, `Peak Frequency`,\n",
    "`Peak Power`, `Duration`, `Frequency Span`, amoung a few others."
   ]
  },
  {
   "cell_type": "code",
   "execution_count": 10,
   "metadata": {},
   "outputs": [
    {
     "name": "stdout",
     "output_type": "stream",
     "text": [
      "200\n",
      "1\n"
     ]
    },
    {
     "data": {
      "text/plain": [
       "{'Peak Frequency': 25,\n",
       " 'Lower Frequency Bound': 20,\n",
       " 'Upper Frequency Bound': 30,\n",
       " 'Frequency Span': 10,\n",
       " 'Peak Time': 0.82,\n",
       " 'Event Onset Time': 0.7733333333333333,\n",
       " 'Event Offset Time': 0.9,\n",
       " 'Event Duration': 0.1266666692,\n",
       " 'Peak Power': 1.677525973282318e-16,\n",
       " 'Normalized Peak Power': 10.087765786470593}"
      ]
     },
     "execution_count": 10,
     "metadata": {},
     "output_type": "execute_result"
    }
   ],
   "source": [
    "print(len(spec_events))  # number of trials\n",
    "print(len(spec_events[0]))  # number of events in the 1st trial\n",
    "spec_events[0][0]  # features of the 1st event of the 1st trial"
   ]
  },
  {
   "cell_type": "markdown",
   "metadata": {},
   "source": [
    "Before we investigate anything else about the events that were detected in the\n",
    "the data (we'll come back to this shortly), let's see what the average\n",
    "spectrogram looks like."
   ]
  },
  {
   "cell_type": "code",
   "execution_count": 11,
   "metadata": {},
   "outputs": [
    {
     "data": {
      "application/vnd.jupyter.widget-view+json": {
       "model_id": "160c5e33bb89474ebcf17d5f3ddeb928",
       "version_major": 2,
       "version_minor": 0
      },
      "text/plain": [
       "Canvas(toolbar=Toolbar(toolitems=[('Home', 'Reset original view', 'home', 'home'), ('Back', 'Back to previous …"
      ]
     },
     "metadata": {},
     "output_type": "display_data"
    }
   ],
   "source": [
    "fig = se.plot_avg_spectrogram(tfr=tfrs, times=times, freqs=freqs,\n",
    "                              event_band=event_band) "
   ]
  },
  {
   "cell_type": "markdown",
   "metadata": {},
   "source": [
    "What if we separate between the two experimental conditions, *hit* versus *miss* trials?"
   ]
  },
  {
   "cell_type": "code",
   "execution_count": 12,
   "metadata": {},
   "outputs": [
    {
     "data": {
      "application/vnd.jupyter.widget-view+json": {
       "model_id": "4b0baf78fd1d4486a94d4469c956ea5c",
       "version_major": 2,
       "version_minor": 0
      },
      "text/plain": [
       "Canvas(toolbar=Toolbar(toolitems=[('Home', 'Reset original view', 'home', 'home'), ('Back', 'Back to previous …"
      ]
     },
     "metadata": {},
     "output_type": "display_data"
    },
    {
     "data": {
      "application/vnd.jupyter.widget-view+json": {
       "model_id": "fd4d0730948147ecaf94e145aa4e10f1",
       "version_major": 2,
       "version_minor": 0
      },
      "text/plain": [
       "Canvas(toolbar=Toolbar(toolitems=[('Home', 'Reset original view', 'home', 'home'), ('Back', 'Back to previous …"
      ]
     },
     "metadata": {},
     "output_type": "display_data"
    }
   ],
   "source": [
    "subj_hit_trials = hit_trials[0]\n",
    "subj_miss_trials = [idx for idx in range(n_trials) if idx not in subj_hit_trials]\n",
    "vlim = [0, 6.0e-17]\n",
    "\n",
    "fig = se.plot_avg_spectrogram(tfr=tfrs[subj_hit_trials],\n",
    "                              times=times,\n",
    "                              freqs=freqs,\n",
    "                              event_band=event_band,\n",
    "                              vlim=vlim)  # note the vlim arguement!\n",
    "\n",
    "fig = se.plot_avg_spectrogram(tfr=tfrs[subj_miss_trials],\n",
    "                              times=times,\n",
    "                              freqs=freqs,\n",
    "                              event_band=event_band,\n",
    "                              vlim=vlim)  # note the vlim arguement!"
   ]
  },
  {
   "cell_type": "markdown",
   "metadata": {},
   "source": [
    "A few observations:\n",
    "\n",
    "1. It appears that there is **beta** activity across time and trials.\n",
    "\n",
    "2. This activity is more pronounced in *miss* trials specficially.\n",
    "\n",
    "If the high beta power is indeed driven by a beta *rhythm*, we should be\n",
    "able to observe it in individual trials. Let's see what a few individual\n",
    "trials look like."
   ]
  },
  {
   "cell_type": "code",
   "execution_count": 13,
   "metadata": {},
   "outputs": [
    {
     "data": {
      "application/vnd.jupyter.widget-view+json": {
       "model_id": "72ebc6b9aabc4f79ba8f99c1cfe0bd70",
       "version_major": 2,
       "version_minor": 0
      },
      "text/plain": [
       "Canvas(toolbar=Toolbar(toolitems=[('Home', 'Reset original view', 'home', 'home'), ('Back', 'Back to previous …"
      ]
     },
     "metadata": {},
     "output_type": "display_data"
    },
    {
     "data": {
      "application/vnd.jupyter.widget-view+json": {
       "model_id": "7d75206f5ad94ba3b7c5487b93c40048",
       "version_major": 2,
       "version_minor": 0
      },
      "text/plain": [
       "Canvas(toolbar=Toolbar(toolitems=[('Home', 'Reset original view', 'home', 'home'), ('Back', 'Back to previous …"
      ]
     },
     "metadata": {},
     "output_type": "display_data"
    }
   ],
   "source": [
    "example_trials = [0, 27, 65]\n",
    "vlim = [0, 7.5e-17]\n",
    "\n",
    "fig = se.plot_avg_spectrogram(tfr=tfrs[subj_hit_trials],\n",
    "                              times=times,\n",
    "                              freqs=freqs,\n",
    "                              event_band=event_band,\n",
    "                              timeseries=subj_data[subj_hit_trials],\n",
    "                              example_epochs=example_trials,  # note the example_epochs arguement!\n",
    "                              vlim=vlim)\n",
    "\n",
    "fig = se.plot_avg_spectrogram(tfr=tfrs[subj_miss_trials],\n",
    "                              times=times,\n",
    "                              freqs=freqs,\n",
    "                              event_band=event_band,\n",
    "                              timeseries=subj_data[subj_miss_trials],\n",
    "                              example_epochs=example_trials,  # note the example_epochs arguement!\n",
    "                              vlim=vlim)"
   ]
  },
  {
   "cell_type": "markdown",
   "metadata": {},
   "source": [
    "Note that the example single-trial signals don't appear to exhibit continuous\n",
    "beta rhythms; rather, they exhibit spurious \"bursts\" in beta activity. From now\n",
    "on, we'll call these *beta events*. Now let's overlay the same spectrograms\n",
    "with the **beta events** that we detected a few steps earlier."
   ]
  },
  {
   "cell_type": "code",
   "execution_count": 14,
   "metadata": {},
   "outputs": [
    {
     "data": {
      "application/vnd.jupyter.widget-view+json": {
       "model_id": "bca9370f26b04d1f95dbb323730c8652",
       "version_major": 2,
       "version_minor": 0
      },
      "text/plain": [
       "Canvas(toolbar=Toolbar(toolitems=[('Home', 'Reset original view', 'home', 'home'), ('Back', 'Back to previous …"
      ]
     },
     "metadata": {},
     "output_type": "display_data"
    },
    {
     "data": {
      "application/vnd.jupyter.widget-view+json": {
       "model_id": "14db172ba4904e60b996dda43768716b",
       "version_major": 2,
       "version_minor": 0
      },
      "text/plain": [
       "Canvas(toolbar=Toolbar(toolitems=[('Home', 'Reset original view', 'home', 'home'), ('Back', 'Back to previous …"
      ]
     },
     "metadata": {},
     "output_type": "display_data"
    }
   ],
   "source": [
    "hit_spec_events = [trial_events for trial_idx, trial_events in enumerate(spec_events)\n",
    "                   if trial_idx in subj_hit_trials]\n",
    "miss_spec_events = [trial_events for trial_idx, trial_events in enumerate(spec_events)\n",
    "                    if trial_idx in subj_miss_trials]\n",
    "\n",
    "fig = se.plot_avg_spectrogram(tfr=tfrs[subj_hit_trials],\n",
    "                              times=times,\n",
    "                              freqs=freqs,\n",
    "                              event_band=event_band,\n",
    "                              spec_events=hit_spec_events,  # note the spec_events argument!\n",
    "                              timeseries=subj_data[subj_hit_trials],\n",
    "                              example_epochs=example_trials,\n",
    "                              show_events=True,  # note the show_events argument!\n",
    "                              vlim=vlim)\n",
    "\n",
    "fig = se.plot_avg_spectrogram(tfr=tfrs[subj_miss_trials],\n",
    "                              times=times,\n",
    "                              freqs=freqs,\n",
    "                              event_band=event_band,\n",
    "                              spec_events=miss_spec_events, # note the spec_events argument!\n",
    "                              timeseries=subj_data[subj_miss_trials],\n",
    "                              example_epochs=example_trials,\n",
    "                              show_events=True,  # note the show_events argument!\n",
    "                              vlim=vlim)"
   ]
  },
  {
   "cell_type": "markdown",
   "metadata": {},
   "source": [
    "Indeed, it appears that single trial spectrograms might contain\n",
    "non-time-locked beta events. Importantly, the *miss* trials appear to have more\n",
    "of them. To investigate this further we can plot the distribution of spectral\n",
    "events per trial."
   ]
  },
  {
   "cell_type": "code",
   "execution_count": 15,
   "metadata": {},
   "outputs": [
    {
     "data": {
      "application/vnd.jupyter.widget-view+json": {
       "model_id": "e3a98c57ac8c4d4894db67e80c40fb90",
       "version_major": 2,
       "version_minor": 0
      },
      "text/plain": [
       "Canvas(toolbar=Toolbar(toolitems=[('Home', 'Reset original view', 'home', 'home'), ('Back', 'Back to previous …"
      ]
     },
     "metadata": {},
     "output_type": "display_data"
    },
    {
     "data": {
      "text/plain": [
       "Text(0, 0.5, 'number of trials')"
      ]
     },
     "execution_count": 15,
     "metadata": {},
     "output_type": "execute_result"
    }
   ],
   "source": [
    "hit_event_counts = [len(events) for events in hit_spec_events]\n",
    "miss_event_counts = [len(events) for events in miss_spec_events]\n",
    "\n",
    "plt.figure()\n",
    "plt.hist(hit_event_counts, label='hit', bins=8, density=True, alpha=0.7)\n",
    "plt.hist(miss_event_counts, label='miss', bins=8, density=True, alpha=0.7)\n",
    "plt.xlabel('events/trial')\n",
    "plt.ylabel('number of trials')"
   ]
  },
  {
   "cell_type": "markdown",
   "metadata": {},
   "source": [
    "A few things to consider:\n",
    "\n",
    "1. What does this tell you about the trial-average spectrogram?\n",
    "\n",
    "2. Is this trend conserved across subjects?\n",
    "\n",
    "Before we move on, let's create a function for extracting the trial-average\n",
    "difference between the spectral event count in *hit* versus *miss* trials."
   ]
  },
  {
   "cell_type": "code",
   "execution_count": 16,
   "metadata": {},
   "outputs": [],
   "source": [
    "def avg_event_count_diff(subj_spec_events, subj_hit_trials):\n",
    "\n",
    "    # initialize the event count to 0\n",
    "    hit_event_count = 0\n",
    "    miss_event_count = 0\n",
    "\n",
    "    # iterate over trials and add event counts depending on trial type\n",
    "    for trial_idx, trial_events in enumerate(subj_spec_events):\n",
    "        if trial_idx in subj_hit_trials:\n",
    "            hit_event_count += len(trial_events)\n",
    "        else:\n",
    "            miss_event_count += len(trial_events)\n",
    "\n",
    "    return (hit_event_count - miss_event_count) / len(subj_hit_trials)"
   ]
  },
  {
   "cell_type": "markdown",
   "metadata": {},
   "source": [
    "## Identifying events in multiple subjects\n",
    "Now let's exand our beta event detection to include data from all 10 subjects.\n",
    "To do this, we'll create one big loop that iterates over our\n",
    "**TIMESERIES** -> **TFR** -> **SPECTRAL EVENTS** workflow for each subject."
   ]
  },
  {
   "cell_type": "code",
   "execution_count": 17,
   "metadata": {},
   "outputs": [],
   "source": [
    "# calculate time-frequency response (TFR)\n",
    "all_tfrs = np.zeros((n_subjs, n_trials, len(freqs), n_times))\n",
    "all_spec_events = list()\n",
    "all_hit_miss_count_diff = list()\n",
    "\n",
    "for subj_idx, subj_data in enumerate(data):\n",
    "\n",
    "    # calculate TFRs\n",
    "    tfrs = se.tfr(subj_data, freqs, samp_freq)\n",
    "\n",
    "    # find events\n",
    "    spec_events = se.find_events(tfr=tfrs, times=times, freqs=freqs,\n",
    "                                 event_band=event_band, threshold_FOM=6.)\n",
    "\n",
    "    # find the average event count difference for this subject\n",
    "    subj_hit_trials = hit_trials[subj_idx]\n",
    "    hit_miss_count_diff = avg_event_count_diff(spec_events, subj_hit_trials)\n",
    "    all_hit_miss_count_diff.append(hit_miss_count_diff)\n",
    "\n",
    "    # store TFRs and events for later\n",
    "    all_tfrs[subj_idx, :, :, :] = tfrs\n",
    "    all_spec_events.append(spec_events)"
   ]
  },
  {
   "cell_type": "markdown",
   "metadata": {},
   "source": [
    "To test whether beta events are more likely to occur in *miss* trials compared\n",
    "to *hit* trials across subjects, we can plot the trial-average difference in\n",
    "the number of detected events for *hit*-*miss* trials. While a formal\n",
    "statistical test would require more subjects, this hopefully builds intuition\n",
    "for how spectral event features can be used to test hypotheses between\n",
    "experimental conditions."
   ]
  },
  {
   "cell_type": "code",
   "execution_count": 21,
   "metadata": {},
   "outputs": [
    {
     "data": {
      "application/vnd.jupyter.widget-view+json": {
       "model_id": "87edcfab3c3847c9997bb9bd45a949ad",
       "version_major": 2,
       "version_minor": 0
      },
      "text/plain": [
       "Canvas(toolbar=Toolbar(toolitems=[('Home', 'Reset original view', 'home', 'home'), ('Back', 'Back to previous …"
      ]
     },
     "metadata": {},
     "output_type": "display_data"
    },
    {
     "data": {
      "text/plain": [
       "Text(0.5, 0, 'difference in # of events')"
      ]
     },
     "execution_count": 21,
     "metadata": {},
     "output_type": "execute_result"
    }
   ],
   "source": [
    "plt.figure()\n",
    "sns.violinplot(all_hit_miss_count_diff)\n",
    "sns.swarmplot(all_hit_miss_count_diff, color='white')\n",
    "plt.xlabel('difference in # of events')"
   ]
  },
  {
   "cell_type": "markdown",
   "metadata": {},
   "source": [
    "Other commonly used spectral event features include\n",
    "\n",
    "- `Peak Power`, an event's power maximum\n",
    "- `Duration`, an event's width in time\n",
    "- `Frequency Span`, an event's width in frequency space\n",
    "\n",
    "These features are left for you to explore further!"
   ]
  }
 ],
 "metadata": {
  "kernelspec": {
   "display_name": "Python 3",
   "language": "python",
   "name": "python3"
  },
  "language_info": {
   "codemirror_mode": {
    "name": "ipython",
    "version": 3
   },
   "file_extension": ".py",
   "mimetype": "text/x-python",
   "name": "python",
   "nbconvert_exporter": "python",
   "pygments_lexer": "ipython3",
   "version": "3.7.6"
  },
  "vscode": {
   "interpreter": {
    "hash": "569d0bbc3854db4a73f5be0bb5576848176d13611564839ca8e34057b1299597"
   }
  }
 },
 "nbformat": 4,
 "nbformat_minor": 2
}
