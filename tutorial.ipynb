{
 "cells": [
  {
   "cell_type": "code",
   "execution_count": null,
   "metadata": {},
   "outputs": [],
   "source": [
    "%matplotlib inline\n",
    "\n",
    "import sys\n",
    "import os.path as op\n",
    "from glob import glob\n",
    "\n",
    "import numpy as np\n",
    "from scipy.io import loadmat\n",
    "import matplotlib.pyplot as plt\n",
    "import seaborn as sns\n",
    "\n",
    "sns.set()"
   ]
  },
  {
   "cell_type": "code",
   "execution_count": null,
   "metadata": {},
   "outputs": [],
   "source": [
    "# set path to SpectralEvents if necessary\n",
    "#sys.path.append('/home/ryan/SpectralEvents')\n",
    "import spectralevents_functions as se"
   ]
  },
  {
   "cell_type": "code",
   "execution_count": null,
   "metadata": {},
   "outputs": [],
   "source": [
    "# dataset parameters\n",
    "data_dir = 'data'  # relative path to data directory\n",
    "subj_ids = [str(id) for id in range(1, 10 + 1)]  # subject IDs 1-10\n",
    "\n",
    "n_subjs = len(subj_ids)  # number of subjects\n",
    "n_trials = 200           # number of trials per subject\n",
    "n_times = 600            # number of time samples per trial\n",
    "samp_freq = 600          # sampling rate (Hz)"
   ]
  },
  {
   "cell_type": "code",
   "execution_count": null,
   "metadata": {},
   "outputs": [],
   "source": [
    "# load data\n",
    "hit_trials = list()\n",
    "data = list()\n",
    "for id_idx, id in enumerate(subj_ids):\n",
    "    fname = op.join(data_dir, 'prestim_humandetection_600hzMEG_subject' + id + '.mat')\n",
    "    raw_data = loadmat(fname)\n",
    "    hit_trials.append(np.nonzero(raw_data['YorN'].squeeze()))  # indices of hit trials\n",
    "    data.append(raw_data['prestim_raw_yes_no'])  # MEG time series (trials x samples)"
   ]
  },
  {
   "cell_type": "code",
   "execution_count": null,
   "metadata": {},
   "outputs": [],
   "source": [
    "# investigate data structure\n",
    "data[0].shape  # trials x samples for Subj 1"
   ]
  },
  {
   "cell_type": "code",
   "execution_count": null,
   "metadata": {},
   "outputs": [],
   "source": [
    "# set time-frequency response (TFR) parameters\n",
    "freqs = list(range(1, 60 + 1))   # TFR: fequency values (Hz) over which to calculate\n",
    "times = np.arange(n_times) / samp_freq\n",
    "morlet_width = 7  # TFR: width parameter of Morlet wavelet\n",
    "\n",
    "# set spectral event analysis parameters\n",
    "event_band = [15, 29]  # frequency range (Hz) of spectral events (beta band)"
   ]
  },
  {
   "cell_type": "code",
   "execution_count": null,
   "metadata": {},
   "outputs": [],
   "source": [
    "# calculate time-frequency response (TFR)\n",
    "tfrs = np.zeros((n_subjs, n_trials, len(freqs), n_times))\n",
    "\n",
    "for subj_idx, subj_data in enumerate(data):\n",
    "\n",
    "    # calculate TFR using the Morlet wavelet method\n",
    "    tfr = se.spectralevents_ts2tfr(subj_data, freqs, samp_freq, morlet_width)\n",
    "    tfrs[subj_idx, :, :, :] = tfr"
   ]
  },
  {
   "cell_type": "code",
   "execution_count": null,
   "metadata": {},
   "outputs": [],
   "source": [
    "# run spectral event analysis per subject\n",
    "spec_events_all = list()\n",
    "\n",
    "for subj_idx, subj_data in enumerate(data):\n",
    "    tfr = tfrs[subj_idx]\n",
    "\n",
    "    # find local maxima in TFR\n",
    "    spec_events = se.find_events(tfr=tfr, times=times, freqs=freqs,\n",
    "                                 event_band=event_band)\n",
    "    spec_events_all.append(spec_events)\n"
   ]
  },
  {
   "cell_type": "code",
   "execution_count": null,
   "metadata": {},
   "outputs": [],
   "source": [
    "fig = se.plot_avg_spectrogram(spec_events=spec_events,\n",
    "                              tfr=tfr, times=times, freqs=freqs,\n",
    "                              event_band=event_band, timeseries=subj_data,\n",
    "                              example_epochs=[43, 6, 99], vlim=None)  # try vlim=[0, 1.0e-17]"
   ]
  },
  {
   "cell_type": "code",
   "execution_count": null,
   "metadata": {},
   "outputs": [],
   "source": [
    "tfrs_norm = np.zeros_like(tfrs)\n",
    "\n",
    "for subj_idx, subj_data in enumerate(data):\n",
    "\n",
    "    # calculate TFR using the Morlet wavelet method\n",
    "    tfr = se.spectralevents_ts2tfr(subj_data, freqs, samp_freq, morlet_width)\n",
    "    tfrs[subj_idx, :, :, :] = tfr\n",
    "\n",
    "    # normalize the TFR data [tr x f x t] to the median value per frequency band\n",
    "    tfr_norm = se.tfr_normalize(tfr)\n",
    "    tfrs_norm[subj_idx, :, :, :] = tfr_norm"
   ]
  }
 ],
 "metadata": {
  "kernelspec": {
   "display_name": "Python 3",
   "language": "python",
   "name": "python3"
  },
  "language_info": {
   "codemirror_mode": {
    "name": "ipython",
    "version": 3
   },
   "file_extension": ".py",
   "mimetype": "text/x-python",
   "name": "python",
   "nbconvert_exporter": "python",
   "pygments_lexer": "ipython3",
   "version": "3.8.8"
  },
  "vscode": {
   "interpreter": {
    "hash": "569d0bbc3854db4a73f5be0bb5576848176d13611564839ca8e34057b1299597"
   }
  }
 },
 "nbformat": 4,
 "nbformat_minor": 2
}
