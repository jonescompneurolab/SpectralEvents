{
 "cells": [
  {
   "cell_type": "markdown",
   "metadata": {},
   "source": [
    "# Spectral Event Analysis Tutorial"
   ]
  },
  {
   "cell_type": "markdown",
   "metadata": {},
   "source": [
    "This tutorial is a hands-on introduction to using the [SpectralEvents toolbox](https://github.com/jonescompneurolab/SpectralEvents), **a collection of functions designed to help researchers characterize high-amplitude peaks in the spectral representation of continuous neural signals**. Here, we'll load and analyze data that is distributed with the toolbox, as described in [Shin et al. (2017)](https://doi.org/10.7554/eLife.29086)."
   ]
  },
  {
   "cell_type": "markdown",
   "metadata": {},
   "source": [
    "First, we'll import some dependencies. Note that `seaborn` is not required, but is added to improve plot styling."
   ]
  },
  {
   "cell_type": "code",
   "execution_count": null,
   "metadata": {},
   "outputs": [],
   "source": [
    "%matplotlib widget\n",
    "\n",
    "import sys\n",
    "import os.path as op\n",
    "from glob import glob\n",
    "\n",
    "import numpy as np\n",
    "from scipy.io import loadmat\n",
    "import matplotlib.pyplot as plt\n",
    "import seaborn as sns\n",
    "\n",
    "sns.set()"
   ]
  },
  {
   "cell_type": "markdown",
   "metadata": {},
   "source": [
    "Now let's import the SpectralEvents toolbox module. You might need to modify the path to this module so that your Python interpreter knows where to find it."
   ]
  },
  {
   "cell_type": "code",
   "execution_count": null,
   "metadata": {},
   "outputs": [],
   "source": [
    "# set path to SpectralEvents if necessary\n",
    "#sys.path.append('/home/ryan/SpectralEvents')\n",
    "import spectralevents as se"
   ]
  },
  {
   "cell_type": "code",
   "execution_count": null,
   "metadata": {},
   "outputs": [],
   "source": [
    "# dataset parameters\n",
    "data_dir = op.join(op.dirname(se.__file__), 'data') \n",
    "subj_ids = [str(id) for id in range(1, 10 + 1)]  # subject IDs 1-10\n",
    "\n",
    "n_subjs = len(subj_ids)  # number of subjects\n",
    "n_trials = 200           # number of trials per subject\n",
    "n_times = 600            # number of time samples per trial\n",
    "samp_freq = 600          # sampling rate (Hz)"
   ]
  },
  {
   "cell_type": "code",
   "execution_count": null,
   "metadata": {},
   "outputs": [],
   "source": [
    "# load data\n",
    "hit_trials = list()\n",
    "data = list()\n",
    "for id_idx, id in enumerate(subj_ids):\n",
    "    fname = op.join(data_dir, 'prestim_humandetection_600hzMEG_subject' + id + '.mat')\n",
    "    raw_data = loadmat(fname)\n",
    "    hit_trials.append(np.nonzero(raw_data['YorN'].squeeze())[0])  # indices for trials where the stimulus was detected\n",
    "    data.append(raw_data['prestim_raw_yes_no'])  # MEG time series (trials x samples)"
   ]
  },
  {
   "cell_type": "markdown",
   "metadata": {},
   "source": [
    "Once you've loaded the data, make sure you understand how it's formatted. There\n",
    "are 10 subjects, each with 100 detected (i.e., *hit*) trials and 100 undetected (i.e., *miss*) trials. How might you go about selecting only the *hit* trials from the 1st subject?"
   ]
  },
  {
   "cell_type": "code",
   "execution_count": null,
   "metadata": {},
   "outputs": [],
   "source": [
    "# investigate data structure: # trials x time for Subj 1\n",
    "data[0].shape"
   ]
  },
  {
   "cell_type": "markdown",
   "metadata": {},
   "source": [
    "## Identifying events in single-subject data\n",
    "Let's find the spectral events across trial conditions in a single subject,\n",
    "after which we'll expand the analysis to include all 10 subjects."
   ]
  },
  {
   "cell_type": "code",
   "execution_count": null,
   "metadata": {},
   "outputs": [],
   "source": [
    "subj_data = data[0]"
   ]
  },
  {
   "cell_type": "markdown",
   "metadata": {},
   "source": [
    "We've loaded the data and must now set the conditions governing Spectral Event detection:\n",
    "- `freqs`, the frequency values over which you will calculate your **t**ime-**f**requency **r**esponse (TFR)\n",
    "- `times`, the time values at which your signal was sampled relative to each epoch or trial\n",
    "- `event_band`, the bounds of the frequency band in which you will look for Spectral Events\n",
    "- `thresh_FOM`, the factor-of-the-median threshold that will be used to find suprathreshold spectral power in each frequency bin across the spectrogram(s)\n",
    "\n",
    "The general workflow for event detection follows this progression: **TIMESERIES** -> **TFR** -> **SPECTRAL EVENTS**"
   ]
  },
  {
   "cell_type": "code",
   "execution_count": null,
   "metadata": {},
   "outputs": [],
   "source": [
    "# set parameters\n",
    "freqs = list(range(1, 60 + 1))   # fequency values (Hz) over which to calculate TFR\n",
    "times = np.arange(n_times) / samp_freq  # seconds\n",
    "event_band = [15, 29]  # beta band (Hz)\n",
    "thresh_FOM = 6.  # factor-of-the-median threshold"
   ]
  },
  {
   "cell_type": "markdown",
   "metadata": {},
   "source": [
    "**Step 1**: **TIMESERIES** -> **TFR**"
   ]
  },
  {
   "cell_type": "code",
   "execution_count": null,
   "metadata": {},
   "outputs": [],
   "source": [
    "# calculate TFR\n",
    "tfrs = se.tfr(subj_data, freqs, samp_freq)"
   ]
  },
  {
   "cell_type": "markdown",
   "metadata": {},
   "source": [
    "**Step 2**: **TFR** -> **SPECTRAL EVENTS**\n",
    "\n",
    "(Note that our band-of-interest, as guided by the literature and discussed in more detail in a few moments, is the **beta band (15-29 Hz)**.)"
   ]
  },
  {
   "cell_type": "code",
   "execution_count": null,
   "metadata": {},
   "outputs": [],
   "source": [
    "# find spectral events!!\n",
    "spec_events = se.find_events(tfr=tfrs, times=times, freqs=freqs,\n",
    "                             event_band=event_band, threshold_FOM=thresh_FOM)"
   ]
  },
  {
   "cell_type": "markdown",
   "metadata": {},
   "source": [
    "Before we investigate any events that were detected, let's see what the average spectrogram looks like."
   ]
  },
  {
   "cell_type": "code",
   "execution_count": null,
   "metadata": {},
   "outputs": [],
   "source": [
    "fig = se.plot_avg_spectrogram(tfr=tfrs, times=times, freqs=freqs,\n",
    "                              event_band=event_band) "
   ]
  },
  {
   "cell_type": "markdown",
   "metadata": {},
   "source": [
    "What if we separate between the two experimental conditions, *hit* versus *miss* trials?"
   ]
  },
  {
   "cell_type": "code",
   "execution_count": null,
   "metadata": {},
   "outputs": [],
   "source": [
    "subj_hit_trials = hit_trials[0]\n",
    "subj_miss_trials = [idx for idx in range(n_trials) if idx not in subj_hit_trials]\n",
    "\n",
    "vlim = [0, 6.0e-17]\n",
    "\n",
    "fig = se.plot_avg_spectrogram(tfr=tfrs[subj_hit_trials],\n",
    "                              times=times,\n",
    "                              freqs=freqs,\n",
    "                              event_band=event_band,\n",
    "                              vlim=vlim)  # note the vlim arguement!\n",
    "\n",
    "fig = se.plot_avg_spectrogram(tfr=tfrs[subj_miss_trials],\n",
    "                              times=times,\n",
    "                              freqs=freqs,\n",
    "                              event_band=event_band,\n",
    "                              vlim=vlim)  # note the vlim arguement!"
   ]
  },
  {
   "cell_type": "markdown",
   "metadata": {},
   "source": [
    "A few observations:\n",
    "\n",
    "1. It appears that there is **beta** activity across time and trials.\n",
    "\n",
    "2. This activity is more pronounced in *miss* trials specficially.\n",
    "\n",
    "If the high beta power is indeed driven by a beta *rhythm*, we should be\n",
    "able to observe it in individual trials. Let's see what a few individual\n",
    "trials look like."
   ]
  },
  {
   "cell_type": "code",
   "execution_count": null,
   "metadata": {},
   "outputs": [],
   "source": [
    "example_trials = [0, 27, 65]\n",
    "\n",
    "vlim = [0, 7.5e-17]\n",
    "\n",
    "fig = se.plot_avg_spectrogram(tfr=tfrs[subj_hit_trials],\n",
    "                              times=times,\n",
    "                              freqs=freqs,\n",
    "                              event_band=event_band,\n",
    "                              timeseries=subj_data[subj_hit_trials],\n",
    "                              example_epochs=example_trials,  # note the example_epochs arguement!\n",
    "                              vlim=vlim)\n",
    "\n",
    "fig = se.plot_avg_spectrogram(tfr=tfrs[subj_miss_trials],\n",
    "                              times=times,\n",
    "                              freqs=freqs,\n",
    "                              event_band=event_band,\n",
    "                              timeseries=subj_data[subj_miss_trials],\n",
    "                              example_epochs=example_trials,  # note the example_epochs arguement!\n",
    "                              vlim=vlim)"
   ]
  },
  {
   "cell_type": "code",
   "execution_count": null,
   "metadata": {},
   "outputs": [],
   "source": [
    "hit_spec_events = [trial_events for trial_idx, trial_events in enumerate(spec_events)\n",
    "                   if trial_idx in subj_hit_trials]\n",
    "\n",
    "miss_spec_events = [trial_events for trial_idx, trial_events in enumerate(spec_events)\n",
    "                    if trial_idx in subj_miss_trials]\n",
    "\n",
    "fig = se.plot_avg_spectrogram(tfr=tfrs[subj_hit_trials],\n",
    "                              times=times,\n",
    "                              freqs=freqs,\n",
    "                              event_band=event_band,\n",
    "                              spec_events=hit_spec_events,  # note the spec_events argument!\n",
    "                              timeseries=subj_data[subj_hit_trials],\n",
    "                              example_epochs=example_trials,\n",
    "                              show_events=True,  # note the show_events argument!\n",
    "                              vlim=vlim)\n",
    "\n",
    "fig = se.plot_avg_spectrogram(tfr=tfrs[subj_miss_trials],\n",
    "                              times=times,\n",
    "                              freqs=freqs,\n",
    "                              event_band=event_band,\n",
    "                              spec_events=miss_spec_events, # note the spec_events argument!\n",
    "                              timeseries=subj_data[subj_miss_trials],\n",
    "                              example_epochs=example_trials,\n",
    "                              show_events=True,  # note the show_events argument!\n",
    "                              vlim=vlim)"
   ]
  },
  {
   "cell_type": "code",
   "execution_count": null,
   "metadata": {},
   "outputs": [],
   "source": [
    "fig = se.plot_avg_spectrogram(tfr=tfr, times=times, freqs=freqs,\n",
    "                              event_band=event_band, spec_events=spec_events,\n",
    "                              timeseries=subj_data, example_epochs=[43, 6, 99],\n",
    "                              vlim=None, show_events=True)  # try vlim=[0, 1.0e-17]"
   ]
  },
  {
   "cell_type": "code",
   "execution_count": null,
   "metadata": {},
   "outputs": [],
   "source": [
    "# calculate time-frequency response (TFR)\n",
    "tfrs = np.zeros((n_subjs, n_trials, len(freqs), n_times))\n",
    "\n",
    "for subj_idx, subj_data in enumerate(data):\n",
    "\n",
    "    # calculate TFR using the Morlet wavelet method\n",
    "    tfr = se.tfr(subj_data, freqs, samp_freq)\n",
    "    tfrs[subj_idx, :, :, :] = tfr"
   ]
  },
  {
   "cell_type": "code",
   "execution_count": null,
   "metadata": {},
   "outputs": [],
   "source": []
  },
  {
   "cell_type": "code",
   "execution_count": null,
   "metadata": {},
   "outputs": [],
   "source": [
    "# run spectral event analysis per subject\n",
    "spec_events_all = list()\n",
    "\n",
    "for subj_idx, subj_data in enumerate(data):\n",
    "    tfr = tfrs[subj_idx]\n",
    "\n",
    "    # find local maxima in TFR\n",
    "    spec_events = se.find_events(tfr=tfr, times=times, freqs=freqs,\n",
    "                                 event_band=event_band, threshold_FOM=6.)\n",
    "    spec_events_all.append(spec_events)\n"
   ]
  }
 ],
 "metadata": {
  "kernelspec": {
   "display_name": "Python 3",
   "language": "python",
   "name": "python3"
  },
  "language_info": {
   "codemirror_mode": {
    "name": "ipython",
    "version": 3
   },
   "file_extension": ".py",
   "mimetype": "text/x-python",
   "name": "python",
   "nbconvert_exporter": "python",
   "pygments_lexer": "ipython3",
   "version": "3.7.6"
  },
  "vscode": {
   "interpreter": {
    "hash": "569d0bbc3854db4a73f5be0bb5576848176d13611564839ca8e34057b1299597"
   }
  }
 },
 "nbformat": 4,
 "nbformat_minor": 2
}
