{
 "cells": [
  {
   "cell_type": "code",
   "execution_count": 12,
   "metadata": {},
   "outputs": [],
   "source": [
    "import sys\n",
    "import os.path as op\n",
    "# set path to SpectralEvents if necessary\n",
    "#sys.path.append('/home/ryan/SpectralEvents')\n",
    "\n",
    "import numpy as np\n",
    "import scipy.io as io\n",
    "import pandas as pd\n",
    "import matplotlib.pyplot as plt\n",
    "import seaborn as sns\n",
    "\n",
    "import spectralevents_functions as se\n",
    "\n",
    "sns.set()"
   ]
  },
  {
   "cell_type": "code",
   "execution_count": 13,
   "metadata": {},
   "outputs": [],
   "source": [
    "numSubj = 10\n",
    "\n",
    "eventBand = [15,29]      # Frequency range of spectral events\n",
    "fVec = np.arange(1,60+1)            # Vector of fequency values over which to calculate TFR\n",
    "Fs = 600                            # Sampling rate of time-series\n",
    "findMethod = 1                      # Event-finding method (1 allows for maximal overlap while 2 limits overlap in each respective suprathreshold region)\n",
    "width = 7\n",
    "thrFOM = 6; # Factors of Median threshold (see Shin et al. eLife 2017 for details concerning this value)\n",
    "\n",
    "################################\n",
    "# Processing starts here\n",
    "subjectIDs = np.arange(numSubj)+1\n",
    "\n",
    "# Load data sessions/subjects from the same experimental setup so that\n",
    "# spectral event features are differentially characterized only between the\n",
    "# desired trial classification labels: in this case, detection vs.\n",
    "# non-detection\n",
    "#\n",
    "# Note: each .mat file contains:\n",
    "#   'prestim_raw_yes_no' - 200 trials x 600 time samples matrix of time series data\n",
    "#   'YorN' - 200 trials x 1 matrix of 1s or 0s to indicate trial label\n",
    "x = []\n",
    "for s in subjectIDs:\n",
    "    testFile = op.join('test_data', \"\".join(['prestim_humandetection_600hzMEG_subject',\n",
    "        str(s), '.mat']))\n",
    "    a = io.loadmat(testFile)\n",
    "    x.append( a )\n",
    "\n",
    "numTrials, numSamples = a['prestim_raw_yes_no'].shape"
   ]
  },
  {
   "cell_type": "code",
   "execution_count": 14,
   "metadata": {},
   "outputs": [],
   "source": [
    "# Validate fVec input\n",
    "Fn = Fs/2                   # Nyquist frequency\n",
    "dt = 1/Fs                   # Sampling time interval\n",
    "Fmin = 1/(numSamples*dt)    # Minimum resolvable frequency\n",
    "\n",
    "if fVec[0] < Fmin:\n",
    "    sys.exit('Frequency vector includes values outside the resolvable/alias-free range.')\n",
    "elif fVec[-1] > Fn:\n",
    "    sys.exit('Frequency vector includes values outside the resolvable/alias-free range.')\n",
    "elif np.abs(fVec[1]-fVec[0]) < Fmin:\n",
    "    sys.exit('Frequency vector includes values outside the resolvable/alias-free range.')\n"
   ]
  },
  {
   "cell_type": "code",
   "execution_count": 15,
   "metadata": {},
   "outputs": [],
   "source": [
    "# Run spectral event analysis per dataset (Dataset loop)\n",
    "TFR = []\n",
    "specEvents = []\n",
    "ctr = 1\n",
    "for subj_idx, thisX in enumerate(x):\n",
    "\n",
    "    # Convert data to TFR\n",
    "    thisData = thisX['prestim_raw_yes_no']\n",
    "    thisClassLabels = thisX['YorN']\n",
    "    thisTFR, tVec, fVec = se.spectralevents_ts2tfr( thisData.T, fVec, Fs, width )\n",
    "    TFR.append( thisTFR )\n",
    "\n",
    "    # Normalize the TFR data [tr x f x t] to the median value per frequency band\n",
    "    numTrials, numFreqBins, numSamples = thisTFR.shape\n",
    "    TFR_order = np.transpose(thisTFR, axes=[1,0,2]) # [f x tr x t]\n",
    "    TFR_reshape = np.reshape(TFR_order, (numFreqBins, numTrials*numSamples))\n",
    "    TFRmeds = np.median(TFR_reshape, axis=1)        # f vector\n",
    "    TFRmeds_expanded = np.transpose(np.tile(TFRmeds, (numSamples,numTrials,1)), axes=[1,2,0])\n",
    "    thisTFR_norm = thisTFR/TFRmeds_expanded\n",
    "\n",
    "    # Find local maxima in TFR\n",
    "    thisSpecEvents = se.spectralevents_find (findMethod, thrFOM, tVec, fVec,\n",
    "                                              thisTFR, thisClassLabels, Fs)\n",
    "    thisSpecEvents = pd.DataFrame( thisSpecEvents )\n",
    "    specEvents.append( thisSpecEvents )\n",
    "\n",
    "    # Extract event attributes for this test data\n",
    "    classes = np.unique( thisSpecEvents['Hit/Miss'].tolist() )\n",
    "\n",
    "    # Plot results for each class of trial\n",
    "    for clss in classes:\n",
    "\n",
    "        # Get TFR, time course, and trial IDs for this class of trials only\n",
    "        trial_inds = np.where(thisClassLabels == clss)[0]\n",
    "        classTFR = thisTFR[trial_inds,:,:]\n",
    "        classTFR_norm = thisTFR_norm[trial_inds,:,:]\n",
    "        classData = thisData[trial_inds,:]\n",
    "\n",
    "        # Get events data for this class only, and update trial indices to be consecutive\n",
    "        #   starting at 0\n",
    "        df = thisSpecEvents[thisSpecEvents['Hit/Miss']==clss]\n",
    "        classEvents = df.copy()\n",
    "        classEvents = classEvents.replace(trial_inds, np.arange(len(trial_inds)))\n",
    "\n",
    "        # Drop events that are low threshold (below 6 FOM)\n",
    "        classEvents = classEvents[classEvents['Outlier Event']==1]\n",
    "\n",
    "        # Make figure\n",
    "        fig, axs = se.spectralevents_vis( classEvents, classData, classTFR, classTFR_norm,\n",
    "            tVec, fVec, eventBand )\n",
    "        # Add title\n",
    "        axs[0,0].set_title( 'DataSet ' + str(subj_idx) + ', Trial class ' + str(clss) )"
   ]
  }
 ],
 "metadata": {
  "kernelspec": {
   "display_name": "Python 3.7.6 ('base')",
   "language": "python",
   "name": "python3"
  },
  "language_info": {
   "codemirror_mode": {
    "name": "ipython",
    "version": 3
   },
   "file_extension": ".py",
   "mimetype": "text/x-python",
   "name": "python",
   "nbconvert_exporter": "python",
   "pygments_lexer": "ipython3",
   "version": "3.7.6"
  },
  "orig_nbformat": 4,
  "vscode": {
   "interpreter": {
    "hash": "569d0bbc3854db4a73f5be0bb5576848176d13611564839ca8e34057b1299597"
   }
  }
 },
 "nbformat": 4,
 "nbformat_minor": 2
}
