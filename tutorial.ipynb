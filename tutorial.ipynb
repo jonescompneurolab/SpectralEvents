{
 "cells": [
  {
   "cell_type": "markdown",
   "metadata": {},
   "source": [
    "# Spectral Event Analysis Tutorial"
   ]
  },
  {
   "cell_type": "markdown",
   "metadata": {},
   "source": [
    "This tutorial is a hands-on introduction to using the [SpectralEvents toolbox](https://github.com/jonescompneurolab/SpectralEvents). Here, we'll load and analyze data as described in [Shin et al. (2017)](https://doi.org/10.7554/eLife.29086) that is distributed with the toolbox."
   ]
  },
  {
   "cell_type": "markdown",
   "metadata": {},
   "source": [
    "First, we'll import some dependencies. Note that `seaborn` is not required, but is added to improve plot styling."
   ]
  },
  {
   "cell_type": "code",
   "execution_count": null,
   "metadata": {},
   "outputs": [],
   "source": [
    "%matplotlib inline\n",
    "\n",
    "import sys\n",
    "import os.path as op\n",
    "from glob import glob\n",
    "\n",
    "import numpy as np\n",
    "from scipy.io import loadmat\n",
    "import matplotlib.pyplot as plt\n",
    "import seaborn as sns\n",
    "\n",
    "sns.set()"
   ]
  },
  {
   "cell_type": "markdown",
   "metadata": {},
   "source": [
    "Now let's import the SpectralEvents toolbox module. You might need to modify the path to this module so that your Python interpreter knows where to find it."
   ]
  },
  {
   "cell_type": "code",
   "execution_count": null,
   "metadata": {},
   "outputs": [],
   "source": [
    "# set path to SpectralEvents if necessary\n",
    "#sys.path.append('/home/ryan/SpectralEvents')\n",
    "import spectralevents as se"
   ]
  },
  {
   "cell_type": "markdown",
   "metadata": {},
   "source": [
    "XXX find data_dir automatically"
   ]
  },
  {
   "cell_type": "code",
   "execution_count": null,
   "metadata": {},
   "outputs": [],
   "source": [
    "# dataset parameters\n",
    "data_dir = 'data'  # relative path to data directory\n",
    "subj_ids = [str(id) for id in range(1, 10 + 1)]  # subject IDs 1-10\n",
    "\n",
    "n_subjs = len(subj_ids)  # number of subjects\n",
    "n_trials = 200           # number of trials per subject\n",
    "n_times = 600            # number of time samples per trial\n",
    "samp_freq = 600          # sampling rate (Hz)"
   ]
  },
  {
   "cell_type": "code",
   "execution_count": null,
   "metadata": {},
   "outputs": [],
   "source": [
    "# load data\n",
    "hit_trials = list()\n",
    "data = list()\n",
    "for id_idx, id in enumerate(subj_ids):\n",
    "    fname = op.join(data_dir, 'prestim_humandetection_600hzMEG_subject' + id + '.mat')\n",
    "    raw_data = loadmat(fname)\n",
    "    hit_trials.append(np.nonzero(raw_data['YorN'].squeeze()))  # indices of hit trials\n",
    "    data.append(raw_data['prestim_raw_yes_no'])  # MEG time series (trials x samples)"
   ]
  },
  {
   "cell_type": "markdown",
   "metadata": {},
   "source": [
    "Once you've loaded the data, make sure you understand how it's formatted. Note that there are 10 subjects, each with 100 \"hit\" trials and 100 \"miss\" trials. How might you go about selecting only the \"hit\" trials from the 1st subject?"
   ]
  },
  {
   "cell_type": "code",
   "execution_count": null,
   "metadata": {},
   "outputs": [],
   "source": [
    "# investigate data structure\n",
    "data[0].shape  # trials x samples for Subj 1"
   ]
  },
  {
   "cell_type": "markdown",
   "metadata": {},
   "source": [
    "We've loaded the data and are now ready to try detecting some Spectral Events. Three important parameters will govern the outcome of your results: the frequencies `freqs` over which you will calculate your time-frequency response, the time values `times` at which your signal was sampled relative to each epoch (i.e, trial), and the bounds of the frequency band `event_band` in which you will look for Spectral Events."
   ]
  },
  {
   "cell_type": "code",
   "execution_count": null,
   "metadata": {},
   "outputs": [],
   "source": [
    "# set time-frequency response (TFR) parameters\n",
    "freqs = list(range(1, 60 + 1))   # TFR: fequency values (Hz) over which to calculate\n",
    "times = np.arange(n_times) / samp_freq  # seconds\n",
    "\n",
    "# set spectral event analysis parameters\n",
    "event_band = [15, 29]  # frequency range (Hz) of spectral events (beta band)"
   ]
  },
  {
   "cell_type": "code",
   "execution_count": null,
   "metadata": {},
   "outputs": [],
   "source": [
    "# calculate time-frequency response (TFR)\n",
    "tfrs = np.zeros((n_subjs, n_trials, len(freqs), n_times))\n",
    "\n",
    "for subj_idx, subj_data in enumerate(data):\n",
    "\n",
    "    # calculate TFR using the Morlet wavelet method\n",
    "    tfr = se.tfr(subj_data, freqs, samp_freq)\n",
    "    tfrs[subj_idx, :, :, :] = tfr"
   ]
  },
  {
   "cell_type": "code",
   "execution_count": null,
   "metadata": {},
   "outputs": [],
   "source": [
    "# run spectral event analysis per subject\n",
    "spec_events_all = list()\n",
    "\n",
    "for subj_idx, subj_data in enumerate(data):\n",
    "    tfr = tfrs[subj_idx]\n",
    "\n",
    "    # find local maxima in TFR\n",
    "    spec_events = se.find_events(tfr=tfr, times=times, freqs=freqs,\n",
    "                                 event_band=event_band, threshold_FOM=6.)\n",
    "    spec_events_all.append(spec_events)\n"
   ]
  },
  {
   "cell_type": "code",
   "execution_count": null,
   "metadata": {},
   "outputs": [],
   "source": [
    "fig = se.plot_avg_spectrogram(spec_events=spec_events,\n",
    "                              tfr=tfr, times=times, freqs=freqs,\n",
    "                              event_band=event_band, timeseries=subj_data,\n",
    "                              example_epochs=[43, 6, 99], vlim=None)  # try vlim=[0, 1.0e-17]"
   ]
  },
  {
   "cell_type": "code",
   "execution_count": null,
   "metadata": {},
   "outputs": [],
   "source": []
  }
 ],
 "metadata": {
  "kernelspec": {
   "display_name": "Python 3",
   "language": "python",
   "name": "python3"
  },
  "language_info": {
   "codemirror_mode": {
    "name": "ipython",
    "version": 3
   },
   "file_extension": ".py",
   "mimetype": "text/x-python",
   "name": "python",
   "nbconvert_exporter": "python",
   "pygments_lexer": "ipython3",
   "version": "3.8.8"
  },
  "vscode": {
   "interpreter": {
    "hash": "569d0bbc3854db4a73f5be0bb5576848176d13611564839ca8e34057b1299597"
   }
  }
 },
 "nbformat": 4,
 "nbformat_minor": 2
}
